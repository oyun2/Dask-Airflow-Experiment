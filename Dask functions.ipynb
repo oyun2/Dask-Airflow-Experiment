{
 "cells": [
  {
   "cell_type": "markdown",
   "id": "c9623565-c3b9-4e67-8061-bcb1ddb84d5a",
   "metadata": {
    "tags": []
   },
   "source": [
    "## delayed_task()"
   ]
  },
  {
   "cell_type": "code",
   "execution_count": null,
   "id": "52c809e7-d487-499e-b5c8-3f2e8f558017",
   "metadata": {},
   "outputs": [],
   "source": [
    "from dask.distributed import Client\n",
    "client = Client()\n",
    "client"
   ]
  },
  {
   "cell_type": "code",
   "execution_count": null,
   "id": "6ea51ed0-0523-4a03-953f-c3c6cf67dc4c",
   "metadata": {},
   "outputs": [],
   "source": [
    "client.restart()"
   ]
  },
  {
   "cell_type": "code",
   "execution_count": null,
   "id": "fb02c8d4-502e-426d-b4e7-b97f2136d9f8",
   "metadata": {},
   "outputs": [],
   "source": [
    "import dask\n",
    "import dask.dataframe as dd\n",
    "from dask.distributed import Client\n",
    "#client = Client('tcp://dask_scheduler:8786')\n",
    "\n",
    "import time\n",
    "\n",
    "@dask.delayed\n",
    "def inc(x):\n",
    "    time.sleep(.5)\n",
    "    return x + 1\n",
    "\n",
    "@dask.delayed\n",
    "def dec(x):\n",
    "    time.sleep(.5)\n",
    "    return x - 1\n",
    "\n",
    "@dask.delayed\n",
    "def add(x, y):\n",
    "    time.sleep(.5)\n",
    "    return x + y\n",
    "\n",
    "def delayed_task(N=10):\n",
    "    zs = []\n",
    "    for i in range(N):\n",
    "        x = inc(i)\n",
    "        y = dec(2*i)\n",
    "        z = add(x, y)\n",
    "        zs.append(z)\n",
    "    zs = dask.persist(*zs)\n",
    "    total = dask.delayed(sum)(zs) #computing with delayed\n",
    "    #total = sum(zs)#.persist() #computing with futures\n",
    "    total = total.persist()\n",
    "    return total"
   ]
  },
  {
   "cell_type": "code",
   "execution_count": null,
   "id": "4da2f51d-1d60-4542-a4c5-9d6ce9d50cba",
   "metadata": {},
   "outputs": [],
   "source": [
    "%%time\n",
    "delayed_task()"
   ]
  },
  {
   "cell_type": "markdown",
   "id": "ac928d4e-4272-405a-9e37-7a8e00f63d96",
   "metadata": {},
   "source": [
    "## future_task()"
   ]
  },
  {
   "cell_type": "code",
   "execution_count": null,
   "id": "049c0f01-0f6d-4e14-b3a9-364345543a75",
   "metadata": {},
   "outputs": [],
   "source": [
    "from dask.distributed import Client\n",
    "client = Client()\n",
    "client"
   ]
  },
  {
   "cell_type": "code",
   "execution_count": null,
   "id": "3c3e482d-f6e6-4e2b-84e6-3322f1e3059e",
   "metadata": {
    "tags": []
   },
   "outputs": [],
   "source": [
    "client.restart()"
   ]
  },
  {
   "cell_type": "code",
   "execution_count": null,
   "id": "b77aabd2-a93b-4154-9146-88187c52104e",
   "metadata": {},
   "outputs": [],
   "source": [
    "import numpy as np\n",
    "import dask\n",
    "import dask.dataframe as dd\n",
    "from dask.distributed import Client\n",
    "#client = Client('tcp://dask_scheduler:8786')\n",
    "\n",
    "import time\n",
    "\n",
    "def load(x):\n",
    "    time.sleep(.1)\n",
    "    return np.arange(100_000) + x\n",
    "\n",
    "def process(x):\n",
    "    time.sleep(.1)\n",
    "    return x + 1\n",
    "\n",
    "def future_task(N=10):\n",
    "    futures = []\n",
    "    for i in range(N):\n",
    "        x = client.submit(load, i)\n",
    "        y = client.submit(process, x)\n",
    "        futures.append(y)\n",
    "    result = [future.result() for future in futures]\n",
    "    return futures, result"
   ]
  },
  {
   "cell_type": "code",
   "execution_count": null,
   "id": "510349b8-36aa-4d23-a704-0b5ba37afe3c",
   "metadata": {
    "tags": []
   },
   "outputs": [],
   "source": [
    "future_task()"
   ]
  },
  {
   "cell_type": "markdown",
   "id": "911f33ac-343a-42f4-9973-416b625c3ebf",
   "metadata": {},
   "source": [
    "## r_csv()"
   ]
  },
  {
   "cell_type": "code",
   "execution_count": null,
   "id": "148436c6-1116-4d8c-ba90-bb998740dc8a",
   "metadata": {},
   "outputs": [],
   "source": [
    "from dask.distributed import Client\n",
    "client = Client()\n",
    "client"
   ]
  },
  {
   "cell_type": "code",
   "execution_count": null,
   "id": "0eed081e-d464-46f8-8e8c-59e0e8324afd",
   "metadata": {},
   "outputs": [],
   "source": [
    "client.restart()"
   ]
  },
  {
   "cell_type": "code",
   "execution_count": null,
   "id": "a73d0765-a3af-4537-97a5-ba2f14be3d60",
   "metadata": {},
   "outputs": [],
   "source": [
    "import dask\n",
    "import dask.dataframe as dd\n",
    "import pandas as pd\n",
    "from dask.distributed import Client\n",
    "#client = Client('tcp://dask_scheduler:8786')\n",
    "\n",
    "def r_csv():\n",
    "    #client = Client('tcp://dask_scheduler:8786')\n",
    "    ddf = dd.read_csv('ToyData.csv')\n",
    "    pddf = ddf.persist()\n",
    "    sm = []\n",
    "    for col in pddf.columns:\n",
    "        sm.append(pddf[col].sum().persist())\n",
    "        gsm = sum(sm)\n",
    "        #gsm = dask.delayed(sum)(sm)\n",
    "        finale = gsm.persist()\n",
    "    return gsm, finale"
   ]
  },
  {
   "cell_type": "code",
   "execution_count": null,
   "id": "24eab034-ee1c-4d5b-8766-d6f521397dc0",
   "metadata": {
    "tags": []
   },
   "outputs": [],
   "source": [
    "r_csv()"
   ]
  },
  {
   "cell_type": "code",
   "execution_count": 12,
   "id": "5a1c3af5-703c-4580-8465-e3531f4d032e",
   "metadata": {},
   "outputs": [],
   "source": []
  },
  {
   "cell_type": "code",
   "execution_count": null,
   "id": "ce0e231a-7155-4220-bd46-94f7a32beec4",
   "metadata": {},
   "outputs": [],
   "source": []
  },
  {
   "cell_type": "code",
   "execution_count": null,
   "id": "7a0334ad-11da-4e43-888e-5de7e2652a53",
   "metadata": {},
   "outputs": [],
   "source": []
  },
  {
   "cell_type": "code",
   "execution_count": null,
   "id": "372f3eaf-df3c-4996-8fbc-1bb5063cee95",
   "metadata": {},
   "outputs": [],
   "source": []
  },
  {
   "cell_type": "code",
   "execution_count": null,
   "id": "27aab50a-68c5-4f7b-9d91-2f392e9304b0",
   "metadata": {},
   "outputs": [],
   "source": []
  },
  {
   "cell_type": "code",
   "execution_count": null,
   "id": "eaa06461-764c-4297-8c0a-4c2f793b8870",
   "metadata": {},
   "outputs": [],
   "source": []
  }
 ],
 "metadata": {
  "kernelspec": {
   "display_name": "dask-env",
   "language": "python",
   "name": "dask-env"
  },
  "language_info": {
   "codemirror_mode": {
    "name": "ipython",
    "version": 3
   },
   "file_extension": ".py",
   "mimetype": "text/x-python",
   "name": "python",
   "nbconvert_exporter": "python",
   "pygments_lexer": "ipython3",
   "version": "3.10.0"
  }
 },
 "nbformat": 4,
 "nbformat_minor": 5
}
